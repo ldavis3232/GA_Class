{
 "metadata": {
  "name": "",
  "signature": "sha256:8bf44ea14f26736fdd62bf71e27f87203b665c956ba4d684f4accbe68989b0dc"
 },
 "nbformat": 3,
 "nbformat_minor": 0,
 "worksheets": [
  {
   "cells": [
    {
     "cell_type": "code",
     "collapsed": false,
     "input": [
      "%pylab inline\n",
      "\n",
      "import numpy as np\n",
      "import pandas as pd\n",
      "import matplotlib.pyplot as plt\n",
      "\n",
      "pd.set_option('display.mpl_style', 'default')\n",
      "\n",
      "plt.rcParams['figure.figsize'] = (20, 10)"
     ],
     "language": "python",
     "metadata": {},
     "outputs": []
    }
   ],
   "metadata": {}
  }
 ]
}