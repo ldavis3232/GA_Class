{
 "metadata": {
  "name": "",
  "signature": "sha256:b03abfc109395c62e6d56d800773f00e537a6711a4de24ce59417e2411fae88e"
 },
 "nbformat": 3,
 "nbformat_minor": 0,
 "worksheets": [
  {
   "cells": [
    {
     "cell_type": "code",
     "collapsed": false,
     "input": [],
     "language": "python",
     "metadata": {},
     "outputs": []
    }
   ],
   "metadata": {}
  }
 ]
}