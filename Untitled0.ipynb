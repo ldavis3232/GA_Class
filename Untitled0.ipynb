{
 "metadata": {
  "name": "",
  "signature": "sha256:f0da2646b0d8d30070d2a16a753d056e78c1cbe704a40d33f998988d4b0b3414"
 },
 "nbformat": 3,
 "nbformat_minor": 0,
 "worksheets": [
  {
   "cells": [
    {
     "cell_type": "code",
     "collapsed": false,
     "input": [],
     "language": "python",
     "metadata": {},
     "outputs": []
    },
    {
     "cell_type": "code",
     "collapsed": false,
     "input": [
      "%pylab inline\n",
      "import pandas as pd\n",
      "import numpy as np\n",
      "from sklearn import linear_model as lm\n"
     ],
     "language": "python",
     "metadata": {},
     "outputs": [
      {
       "output_type": "stream",
       "stream": "stdout",
       "text": [
        "Populating the interactive namespace from numpy and matplotlib\n"
       ]
      }
     ],
     "prompt_number": 1
    },
    {
     "cell_type": "code",
     "collapsed": false,
     "input": [
      "from sklearn import linear_model as lm\n",
      "from sklearn.datasets import load_boston\n",
      "\n",
      "boston = load_boston()\n",
      "desc = boston.DESCR\n",
      "bostondf = pd.DataFrame(boston.data, columns=boston.feature_names)\n",
      "y_col = 'MEDV'\n",
      "bostondf[y_col] = boston.target\n",
      "x_cols = [\n",
      "    'CRIM',\n",
      "    'ZN',\n",
      "    'INDUS',\n",
      "    'CHAS',\n",
      "    'NOX',\n",
      "    'RM',\n",
      "    'AGE',\n",
      "    'DIS',\n",
      "    'RAD',\n",
      "    'TAX',\n",
      "    'PTRATIO',\n",
      "    'B',\n",
      "    'LSTAT',\n",
      "]\n",
      "\n",
      "#model = lm.LinearRegression().fit(bostondf[x_cols], bostondf[y_col])\n",
      "model +class sklearn.linear_model.Ridge(alpha=1.0, fit_intercept=True, normalize=False, copy_X=True, max_iter=None, tol=0.001, solver='auto')\n",
      "print model.intercept_\n",
      "print model.coef_"
     ],
     "language": "python",
     "metadata": {},
     "outputs": [
      {
       "output_type": "stream",
       "stream": "stdout",
       "text": [
        "36.4911032804\n",
        "[ -1.07170557e-01   4.63952195e-02   2.08602395e-02   2.68856140e+00\n",
        "  -1.77957587e+01   3.80475246e+00   7.51061703e-04  -1.47575880e+00\n",
        "   3.05655038e-01  -1.23293463e-02  -9.53463555e-01   9.39251272e-03\n",
        "  -5.25466633e-01]\n"
       ]
      }
     ],
     "prompt_number": 3
    },
    {
     "cell_type": "code",
     "collapsed": false,
     "input": [
      " "
     ],
     "language": "python",
     "metadata": {},
     "outputs": []
    }
   ],
   "metadata": {}
  }
 ]
}